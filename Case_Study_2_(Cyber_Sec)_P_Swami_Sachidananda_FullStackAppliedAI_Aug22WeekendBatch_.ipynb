{
  "nbformat": 4,
  "nbformat_minor": 0,
  "metadata": {
    "colab": {
      "provenance": [],
      "gpuType": "T4",
      "authorship_tag": "ABX9TyP6nGgaROIXzOWkTTXkfVK2",
      "include_colab_link": true
    },
    "kernelspec": {
      "name": "python3",
      "display_name": "Python 3"
    },
    "language_info": {
      "name": "python"
    },
    "accelerator": "GPU",
    "gpuClass": "standard"
  },
  "cells": [
    {
      "cell_type": "markdown",
      "metadata": {
        "id": "view-in-github",
        "colab_type": "text"
      },
      "source": [
        "<a href=\"https://colab.research.google.com/github/pswami12/Temporay_add_to_version_control/blob/master/Case_Study_2_(Cyber_Sec)_P_Swami_Sachidananda_FullStackAppliedAI_Aug22WeekendBatch_.ipynb\" target=\"_parent\"><img src=\"https://colab.research.google.com/assets/colab-badge.svg\" alt=\"Open In Colab\"/></a>"
      ]
    },
    {
      "cell_type": "markdown",
      "source": [
        "# **Business Objective**"
      ],
      "metadata": {
        "id": "HzKuWH-rEVvh"
      }
    },
    {
      "cell_type": "markdown",
      "source": [
        "As part of this project, your task is to build network intrusion detection system to detect anomalies and attacks in the network. There are two problems: \n",
        "i.  Binomial classification: Detect anomalies by predicting Activity is normal or attack \n",
        "ii. Multinomial Classification: Detecting type of activity by predicting Activity is Normal or Back or Buffer Over         flow or FTP Write or Guess Password or Neptune or N-Map or Port Sweep or Root Kit or Satan or Smurf\n",
        "\n",
        "You are required to append all the files and create new column called attack based on the name of attack. While you are appending the files, you can take resampling of data based on the number of attacks. \n",
        "\n",
        "For Binomial classification, you can create attack variable with attack vs. normal \n",
        "\n",
        "For Multinomial classification, you can create attack variable with normal vs. Back vs. Buffer Over flow vs. FTP Write vs. Guess Password vs. Neptune vs. N-Map vs. Port Sweep vs. Root Kit vs. Satan vs. Smurf"
      ],
      "metadata": {
        "id": "NXrpfRruEQo7"
      }
    },
    {
      "cell_type": "markdown",
      "source": [
        "### **Importing Packages for building classification models using Machine Learning**"
      ],
      "metadata": {
        "id": "q-RtX4cLEjca"
      }
    },
    {
      "cell_type": "code",
      "source": [
        "#Packages related to general operating system & warnings\n",
        "import os \n",
        "import warnings\n",
        "warnings.filterwarnings('ignore')\n",
        "\n",
        "#Packages related to data importing, manipulation, exploratory data analysis, data understanding\n",
        "import numpy as np\n",
        "import pandas as pd\n",
        "import scipy.stats as stats\n",
        "\n",
        "#Packages related to data visualizaiton\n",
        "import seaborn as sns\n",
        "import matplotlib.pyplot as plt\n",
        "%matplotlib inline\n",
        "\n",
        "#Setting plot sizes and type of plot\n",
        "plt.rc(\"font\", size=14)\n",
        "plt.rcParams['axes.grid'] = True\n",
        "plt.figure(figsize=(6,3))\n",
        "plt.gray()\n",
        "\n",
        "from matplotlib.backends.backend_pdf import PdfPages\n",
        "\n",
        "#Modules related to split the data & gridsearch\n",
        "from sklearn.model_selection import train_test_split, GridSearchCV\n",
        "\n",
        "#Module related to calculation of metrics\n",
        "from sklearn import metrics\n",
        "\n",
        "#Module related to VIF \n",
        "from statsmodels.stats.outliers_influence import variance_inflation_factor\n",
        "\n",
        "#Modules related to preprocessing (Imputation of missings, standardiszation, new features creation, converting categorical to numerical)\n",
        "from sklearn.impute import MissingIndicator, SimpleImputer\n",
        "from sklearn.preprocessing import  PolynomialFeatures, KBinsDiscretizer, FunctionTransformer\n",
        "from sklearn.preprocessing import StandardScaler, MinMaxScaler, MaxAbsScaler\n",
        "from sklearn.preprocessing import LabelEncoder, OneHotEncoder, LabelBinarizer, OrdinalEncoder\n",
        "\n",
        "#Moudles related to feature selection\n",
        "from sklearn.feature_selection import RFE, RFECV, SelectKBest, chi2, SelectPercentile, f_classif, mutual_info_classif, f_regression, VarianceThreshold, SelectFromModel, mutual_info_classif, mutual_info_regression, SelectFpr, SelectFdr, SelectFwe\n",
        "\n",
        "#Modules related to pipe line creation for faster processing\n",
        "from sklearn.pipeline import Pipeline\n",
        "from sklearn.pipeline import FeatureUnion\n",
        "\n",
        "#Modules related key techniques of supervised learning \n",
        "import statsmodels.formula.api as smf\n",
        "import statsmodels.tsa as tsa\n",
        "\n",
        "from sklearn.linear_model import LogisticRegression, LinearRegression, ElasticNet, Lasso, Ridge\n",
        "from sklearn.neighbors import KNeighborsClassifier, KNeighborsRegressor\n",
        "from sklearn.tree import DecisionTreeClassifier, DecisionTreeRegressor, export_graphviz\n",
        "from sklearn.ensemble import BaggingClassifier, BaggingRegressor,RandomForestClassifier,RandomForestRegressor\n",
        "from sklearn.ensemble import GradientBoostingClassifier,GradientBoostingRegressor, AdaBoostClassifier, AdaBoostRegressor \n",
        "from sklearn.naive_bayes import BernoulliNB, MultinomialNB, GaussianNB\n",
        "from sklearn.svm import LinearSVC, LinearSVR, SVC, SVR"
      ],
      "metadata": {
        "colab": {
          "base_uri": "https://localhost:8080/",
          "height": 34
        },
        "id": "Ll7t0fqEEscQ",
        "outputId": "70e8caf9-f7e4-46c6-fcd9-44fe6b06bb1e"
      },
      "execution_count": 2,
      "outputs": [
        {
          "output_type": "display_data",
          "data": {
            "text/plain": [
              "<Figure size 600x300 with 0 Axes>"
            ]
          },
          "metadata": {}
        }
      ]
    },
    {
      "cell_type": "code",
      "source": [
        "# List of table names\n",
        "table_names = [\n",
        "    'Data_of_Attack_Back_Normal', 'Data_of_Attack_Back', 'Data_of_Attack_Back_BufferOverflow',\n",
        "    'Data_of_Attack_Back_FTPWrite', 'Data_of_Attack_Back_GuessPassword', 'Data_of_Attack_Back_Neptune',\n",
        "    'Data_of_Attack_Back_NMap', 'Data_of_Attack_Back_PortSweep', 'Data_of_Attack_Back_RootKit',\n",
        "    'Data_of_Attack_Back_Satan', 'Data_of_Attack_Back_Smurf'\n",
        "]\n",
        "\n",
        "# Create an empty DataFrame to store the appended tables\n",
        "final_data = pd.DataFrame()\n",
        "\n",
        "# Iterate over the table names and append the tables to the DataFrame\n",
        "for table_name in table_names:\n",
        "    # Read the table data\n",
        "    table_data = pd.read_csv(f'{table_name}.csv') \n",
        "    \n",
        "    # Extract the attack type from the table name\n",
        "    attack_type = table_name.replace('Data_of_Attack_', '')\n",
        "    \n",
        "    # Add the 'Attack' field with the attack type as a value\n",
        "    table_data['Attack'] = attack_type\n",
        "    \n",
        "    # Append the table data to the appended_data DataFrame\n",
        "    final_data = final_data.append(table_data, ignore_index=True)\n",
        "\n",
        "final_data.info()"
      ],
      "metadata": {
        "colab": {
          "base_uri": "https://localhost:8080/"
        },
        "id": "xUbuGQQlE1um",
        "outputId": "fd5bf56c-af23-42fb-d62d-32066b561022"
      },
      "execution_count": 16,
      "outputs": [
        {
          "output_type": "stream",
          "name": "stdout",
          "text": [
            "<class 'pandas.core.frame.DataFrame'>\n",
            "RangeIndex: 817551 entries, 0 to 817550\n",
            "Data columns (total 42 columns):\n",
            " #   Column                        Non-Null Count   Dtype  \n",
            "---  ------                        --------------   -----  \n",
            " 0   duration                      817551 non-null  float64\n",
            " 1    protocol_type                817551 non-null  float64\n",
            " 2    service                      817551 non-null  float64\n",
            " 3    flag                         817551 non-null  float64\n",
            " 4    src_bytes                    817551 non-null  float64\n",
            " 5    dst_bytes                    817551 non-null  float64\n",
            " 6    land                         817551 non-null  int64  \n",
            " 7    wrong_fragment               817551 non-null  float64\n",
            " 8    urgent                       817551 non-null  float64\n",
            " 9    hot                          817551 non-null  float64\n",
            " 10   num_failed_logins            817551 non-null  float64\n",
            " 11   logged_in                    817551 non-null  float64\n",
            " 12   num_compromised              817551 non-null  float64\n",
            " 13   root_shell                   817551 non-null  float64\n",
            " 14   su_attempted                 817551 non-null  float64\n",
            " 15   num_root                     817551 non-null  float64\n",
            " 16   num_file_creations           817551 non-null  float64\n",
            " 17   num_shells                   817551 non-null  float64\n",
            " 18   num_access_files             817551 non-null  float64\n",
            " 19   num_outbound_cmds            817551 non-null  int64  \n",
            " 20   is_host_login                817551 non-null  float64\n",
            " 21   is_guest_login               817551 non-null  float64\n",
            " 22   count                        817551 non-null  float64\n",
            " 23   srv_count                    817551 non-null  float64\n",
            " 24   serror_rate                  817551 non-null  float64\n",
            " 25   srv_error_rate               817551 non-null  float64\n",
            " 26   rerror_rate                  817551 non-null  float64\n",
            " 27   srv_rerror_rate              817551 non-null  float64\n",
            " 28   same_srv_rate                817551 non-null  float64\n",
            " 29   diff_srv_rate                817551 non-null  float64\n",
            " 30   srv_diff_host_rate           817551 non-null  float64\n",
            " 31   dst_host_count               817551 non-null  float64\n",
            " 32   dst_host_srv_count           817551 non-null  float64\n",
            " 33   dst_host_same_srv_rate       817551 non-null  float64\n",
            " 34   dst_host_diff_srv_rate       817551 non-null  float64\n",
            " 35   dst_host_same_src_port_rate  817551 non-null  float64\n",
            " 36   dst_host_srv_diff_host_rate  817551 non-null  float64\n",
            " 37   dst_host_serror_rate         817551 non-null  float64\n",
            " 38   dst_host_srv_serror_rate     817551 non-null  float64\n",
            " 39   dst_host_rerror_rate         817551 non-null  float64\n",
            " 40   dst_host_srv_rerror_rate     817551 non-null  float64\n",
            " 41  Attack                        817551 non-null  object \n",
            "dtypes: float64(39), int64(2), object(1)\n",
            "memory usage: 262.0+ MB\n"
          ]
        }
      ]
    },
    {
      "cell_type": "code",
      "source": [
        "final_data ['Attack'].value_counts()"
      ],
      "metadata": {
        "colab": {
          "base_uri": "https://localhost:8080/"
        },
        "id": "uoH1TresGDPI",
        "outputId": "38cd3c56-cf94-40b3-9004-6810b0e0d299"
      },
      "execution_count": 4,
      "outputs": [
        {
          "output_type": "execute_result",
          "data": {
            "text/plain": [
              "Back_Normal            451351\n",
              "Back_Neptune           227228\n",
              "Back_Satan               5019\n",
              "Back_Smurf               3007\n",
              "Back_PortSweep           2964\n",
              "Back_NMap                1554\n",
              "Back                      968\n",
              "Back_GuessPassword         53\n",
              "Back_BufferOverflow        30\n",
              "Back_RootKit               10\n",
              "Back_FTPWrite               8\n",
              "Name: Attack, dtype: int64"
            ]
          },
          "metadata": {},
          "execution_count": 4
        }
      ]
    },
    {
      "cell_type": "code",
      "source": [
        "final_data.dropna(inplace=True)"
      ],
      "metadata": {
        "id": "ImBvudkRGyfC"
      },
      "execution_count": 10,
      "outputs": []
    },
    {
      "cell_type": "code",
      "source": [
        "final_data.isna().sum()"
      ],
      "metadata": {
        "colab": {
          "base_uri": "https://localhost:8080/"
        },
        "id": "nHEW7n6ZG7fH",
        "outputId": "712e66fa-3c02-4d81-d4e2-9b92e29023ba"
      },
      "execution_count": 11,
      "outputs": [
        {
          "output_type": "execute_result",
          "data": {
            "text/plain": [
              "duration                        0\n",
              " protocol_type                  0\n",
              " service                        0\n",
              " flag                           0\n",
              " src_bytes                      0\n",
              " dst_bytes                      0\n",
              " land                           0\n",
              " wrong_fragment                 0\n",
              " urgent                         0\n",
              " hot                            0\n",
              " num_failed_logins              0\n",
              " logged_in                      0\n",
              " num_compromised                0\n",
              " root_shell                     0\n",
              " su_attempted                   0\n",
              " num_root                       0\n",
              " num_file_creations             0\n",
              " num_shells                     0\n",
              " num_access_files               0\n",
              " num_outbound_cmds              0\n",
              " is_host_login                  0\n",
              " is_guest_login                 0\n",
              " count                          0\n",
              " srv_count                      0\n",
              " serror_rate                    0\n",
              " srv_error_rate                 0\n",
              " rerror_rate                    0\n",
              " srv_rerror_rate                0\n",
              " same_srv_rate                  0\n",
              " diff_srv_rate                  0\n",
              " srv_diff_host_rate             0\n",
              " dst_host_count                 0\n",
              " dst_host_srv_count             0\n",
              " dst_host_same_srv_rate         0\n",
              " dst_host_diff_srv_rate         0\n",
              " dst_host_same_src_port_rate    0\n",
              " dst_host_srv_diff_host_rate    0\n",
              " dst_host_serror_rate           0\n",
              " dst_host_srv_serror_rate       0\n",
              " dst_host_rerror_rate           0\n",
              " dst_host_srv_rerror_rate       0\n",
              "Attack                          0\n",
              "dtype: int64"
            ]
          },
          "metadata": {},
          "execution_count": 11
        }
      ]
    },
    {
      "cell_type": "markdown",
      "source": [
        "**Using SMOTE to handle imbalanced data**"
      ],
      "metadata": {
        "id": "B1MfKfz_IwBh"
      }
    },
    {
      "cell_type": "code",
      "source": [
        "from imblearn.over_sampling import SMOTE\n",
        "\n",
        "X = final_data.drop('Attack', axis=1)\n",
        "y = final_data['Attack']\n",
        "\n",
        "# Initialize SMOTE for oversampling\n",
        "smote = SMOTE()\n",
        "\n",
        "# Perform SMOTE resampling\n",
        "X_resampled, y_resampled = smote.fit_resample(X, y)\n",
        "\n",
        "# Create a new balanced DataFrame\n",
        "final_data_balanced = pd.DataFrame(X_resampled, columns=X.columns)\n",
        "final_data_balanced['Attack'] = y_resampled\n",
        "\n",
        "\n",
        "final_data_balanced.info()"
      ],
      "metadata": {
        "colab": {
          "base_uri": "https://localhost:8080/"
        },
        "id": "PmTUU06hGeM0",
        "outputId": "11b8999f-d3da-4486-e3b8-fc6111e8d369"
      },
      "execution_count": 12,
      "outputs": [
        {
          "output_type": "stream",
          "name": "stdout",
          "text": [
            "<class 'pandas.core.frame.DataFrame'>\n",
            "RangeIndex: 4964850 entries, 0 to 4964849\n",
            "Data columns (total 42 columns):\n",
            " #   Column                        Dtype  \n",
            "---  ------                        -----  \n",
            " 0   duration                      float64\n",
            " 1    protocol_type                float64\n",
            " 2    service                      float64\n",
            " 3    flag                         float64\n",
            " 4    src_bytes                    float64\n",
            " 5    dst_bytes                    float64\n",
            " 6    land                         float64\n",
            " 7    wrong_fragment               float64\n",
            " 8    urgent                       float64\n",
            " 9    hot                          float64\n",
            " 10   num_failed_logins            float64\n",
            " 11   logged_in                    float64\n",
            " 12   num_compromised              float64\n",
            " 13   root_shell                   float64\n",
            " 14   su_attempted                 float64\n",
            " 15   num_root                     float64\n",
            " 16   num_file_creations           float64\n",
            " 17   num_shells                   float64\n",
            " 18   num_access_files             float64\n",
            " 19   num_outbound_cmds            float64\n",
            " 20   is_host_login                float64\n",
            " 21   is_guest_login               float64\n",
            " 22   count                        float64\n",
            " 23   srv_count                    float64\n",
            " 24   serror_rate                  float64\n",
            " 25   srv_error_rate               float64\n",
            " 26   rerror_rate                  float64\n",
            " 27   srv_rerror_rate              float64\n",
            " 28   same_srv_rate                float64\n",
            " 29   diff_srv_rate                float64\n",
            " 30   srv_diff_host_rate           float64\n",
            " 31   dst_host_count               float64\n",
            " 32   dst_host_srv_count           float64\n",
            " 33   dst_host_same_srv_rate       float64\n",
            " 34   dst_host_diff_srv_rate       float64\n",
            " 35   dst_host_same_src_port_rate  float64\n",
            " 36   dst_host_srv_diff_host_rate  float64\n",
            " 37   dst_host_serror_rate         float64\n",
            " 38   dst_host_srv_serror_rate     float64\n",
            " 39   dst_host_rerror_rate         float64\n",
            " 40   dst_host_srv_rerror_rate     float64\n",
            " 41  Attack                        object \n",
            "dtypes: float64(41), object(1)\n",
            "memory usage: 1.6+ GB\n"
          ]
        }
      ]
    }
  ]
}