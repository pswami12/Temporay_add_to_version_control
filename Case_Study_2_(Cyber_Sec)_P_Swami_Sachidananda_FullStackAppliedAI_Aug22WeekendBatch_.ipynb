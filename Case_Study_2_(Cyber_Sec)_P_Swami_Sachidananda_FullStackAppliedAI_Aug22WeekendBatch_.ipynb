{
  "nbformat": 4,
  "nbformat_minor": 0,
  "metadata": {
    "colab": {
      "provenance": [],
      "gpuType": "T4",
      "authorship_tag": "ABX9TyMYWiXsNtQEOQI/AoE7UJ4h",
      "include_colab_link": true
    },
    "kernelspec": {
      "name": "python3",
      "display_name": "Python 3"
    },
    "language_info": {
      "name": "python"
    },
    "accelerator": "GPU",
    "gpuClass": "standard"
  },
  "cells": [
    {
      "cell_type": "markdown",
      "metadata": {
        "id": "view-in-github",
        "colab_type": "text"
      },
      "source": [
        "<a href=\"https://colab.research.google.com/github/pswami12/Temporay_add_to_version_control/blob/master/Case_Study_2_(Cyber_Sec)_P_Swami_Sachidananda_FullStackAppliedAI_Aug22WeekendBatch_.ipynb\" target=\"_parent\"><img src=\"https://colab.research.google.com/assets/colab-badge.svg\" alt=\"Open In Colab\"/></a>"
      ]
    },
    {
      "cell_type": "markdown",
      "source": [
        "# **Business Objective**"
      ],
      "metadata": {
        "id": "HzKuWH-rEVvh"
      }
    },
    {
      "cell_type": "markdown",
      "source": [
        "As part of this project, your task is to build network intrusion detection system to detect anomalies and attacks in the network. There are two problems: \n",
        "i.  Binomial classification: Detect anomalies by predicting Activity is normal or attack \n",
        "ii. Multinomial Classification: Detecting type of activity by predicting Activity is Normal or Back or Buffer Over         flow or FTP Write or Guess Password or Neptune or N-Map or Port Sweep or Root Kit or Satan or Smurf\n",
        "\n",
        "You are required to append all the files and create new column called attack based on the name of attack. While you are appending the files, you can take resampling of data based on the number of attacks. \n",
        "\n",
        "For Binomial classification, you can create attack variable with attack vs. normal \n",
        "\n",
        "For Multinomial classification, you can create attack variable with normal vs. Back vs. Buffer Over flow vs. FTP Write vs. Guess Password vs. Neptune vs. N-Map vs. Port Sweep vs. Root Kit vs. Satan vs. Smurf"
      ],
      "metadata": {
        "id": "NXrpfRruEQo7"
      }
    },
    {
      "cell_type": "markdown",
      "source": [
        "### **Importing Packages for building classification models using Machine Learning**"
      ],
      "metadata": {
        "id": "q-RtX4cLEjca"
      }
    },
    {
      "cell_type": "code",
      "source": [
        "#Packages related to general operating system & warnings\n",
        "import os \n",
        "import warnings\n",
        "warnings.filterwarnings('ignore')\n",
        "\n",
        "#Packages related to data importing, manipulation, exploratory data analysis, data understanding\n",
        "import numpy as np\n",
        "import pandas as pd\n",
        "import scipy.stats as stats\n",
        "\n",
        "#Packages related to data visualizaiton\n",
        "import seaborn as sns\n",
        "import matplotlib.pyplot as plt\n",
        "%matplotlib inline\n",
        "\n",
        "#Setting plot sizes and type of plot\n",
        "plt.rc(\"font\", size=14)\n",
        "plt.rcParams['axes.grid'] = True\n",
        "plt.figure(figsize=(6,3))\n",
        "plt.gray()\n",
        "\n",
        "from matplotlib.backends.backend_pdf import PdfPages\n",
        "\n",
        "#Modules related to split the data & gridsearch\n",
        "from sklearn.model_selection import train_test_split, GridSearchCV\n",
        "\n",
        "#Module related to calculation of metrics\n",
        "from sklearn import metrics\n",
        "\n",
        "#Module related to VIF \n",
        "from statsmodels.stats.outliers_influence import variance_inflation_factor\n",
        "\n",
        "#Modules related to preprocessing (Imputation of missings, standardiszation, new features creation, converting categorical to numerical)\n",
        "from sklearn.impute import MissingIndicator, SimpleImputer\n",
        "from sklearn.preprocessing import  PolynomialFeatures, KBinsDiscretizer, FunctionTransformer\n",
        "from sklearn.preprocessing import StandardScaler, MinMaxScaler, MaxAbsScaler\n",
        "from sklearn.preprocessing import LabelEncoder, OneHotEncoder, LabelBinarizer, OrdinalEncoder\n",
        "\n",
        "#Moudles related to feature selection\n",
        "from sklearn.feature_selection import RFE, RFECV, SelectKBest, chi2, SelectPercentile, f_classif, mutual_info_classif, f_regression, VarianceThreshold, SelectFromModel, mutual_info_classif, mutual_info_regression, SelectFpr, SelectFdr, SelectFwe\n",
        "\n",
        "#Modules related to pipe line creation for faster processing\n",
        "from sklearn.pipeline import Pipeline\n",
        "from sklearn.pipeline import FeatureUnion\n",
        "\n",
        "#Modules related key techniques of supervised learning \n",
        "import statsmodels.formula.api as smf\n",
        "import statsmodels.tsa as tsa\n",
        "\n",
        "from sklearn.linear_model import LogisticRegression, LinearRegression, ElasticNet, Lasso, Ridge\n",
        "from sklearn.neighbors import KNeighborsClassifier, KNeighborsRegressor\n",
        "from sklearn.tree import DecisionTreeClassifier, DecisionTreeRegressor, export_graphviz\n",
        "from sklearn.ensemble import BaggingClassifier, BaggingRegressor,RandomForestClassifier,RandomForestRegressor\n",
        "from sklearn.ensemble import GradientBoostingClassifier,GradientBoostingRegressor, AdaBoostClassifier, AdaBoostRegressor \n",
        "from sklearn.naive_bayes import BernoulliNB, MultinomialNB, GaussianNB\n",
        "from sklearn.svm import LinearSVC, LinearSVR, SVC, SVR"
      ],
      "metadata": {
        "colab": {
          "base_uri": "https://localhost:8080/",
          "height": 35
        },
        "id": "Ll7t0fqEEscQ",
        "outputId": "ac9c3e3d-aa41-4506-aecc-15e389e143af"
      },
      "execution_count": 4,
      "outputs": [
        {
          "output_type": "display_data",
          "data": {
            "text/plain": [
              "<Figure size 600x300 with 0 Axes>"
            ]
          },
          "metadata": {}
        }
      ]
    },
    {
      "cell_type": "code",
      "source": [
        "# List of table names\n",
        "table_names = [\n",
        "    'Data_of_Attack_Back_Normal', 'Data_of_Attack_Back', 'Data_of_Attack_Back_BufferOverflow',\n",
        "    'Data_of_Attack_Back_FTPWrite', 'Data_of_Attack_Back_GuessPassword', 'Data_of_Attack_Back_Neptune',\n",
        "    'Data_of_Attack_Back_NMap', 'Data_of_Attack_Back_PortSweep', 'Data_of_Attack_Back_RootKit',\n",
        "    'Data_of_Attack_Back_Satan', 'Data_of_Attack_Back_Smurf'\n",
        "]\n",
        "\n",
        "# Create an empty DataFrame to store the appended tables\n",
        "final_data = pd.DataFrame()\n",
        "\n",
        "# Iterate over the table names and append the tables to the DataFrame\n",
        "for table_name in table_names:\n",
        "    # Read the table data\n",
        "    table_data = pd.read_csv(f'{table_name}.csv')  \n",
        "    \n",
        "    # Extract the attack type from the table name\n",
        "    attack_type = table_name.replace('Data_of_Attack_', '')\n",
        "    \n",
        "    # Add the 'Attack' field with the attack type as a value\n",
        "    table_data['Attack'] = attack_type\n",
        "    \n",
        "    # Append the table data to the final_data DataFrame\n",
        "    final_data = final_data.append(table_data, ignore_index=True)\n",
        "\n",
        "final_data.info()"
      ],
      "metadata": {
        "colab": {
          "base_uri": "https://localhost:8080/"
        },
        "id": "xUbuGQQlE1um",
        "outputId": "cbda1357-8429-43fd-96ed-36cab01951fe"
      },
      "execution_count": 5,
      "outputs": [
        {
          "output_type": "stream",
          "name": "stdout",
          "text": [
            "<class 'pandas.core.frame.DataFrame'>\n",
            "RangeIndex: 817551 entries, 0 to 817550\n",
            "Data columns (total 42 columns):\n",
            " #   Column                        Non-Null Count   Dtype  \n",
            "---  ------                        --------------   -----  \n",
            " 0   duration                      817551 non-null  float64\n",
            " 1    protocol_type                817551 non-null  float64\n",
            " 2    service                      817551 non-null  float64\n",
            " 3    flag                         817551 non-null  float64\n",
            " 4    src_bytes                    817551 non-null  float64\n",
            " 5    dst_bytes                    817551 non-null  float64\n",
            " 6    land                         817551 non-null  int64  \n",
            " 7    wrong_fragment               817551 non-null  float64\n",
            " 8    urgent                       817551 non-null  float64\n",
            " 9    hot                          817551 non-null  float64\n",
            " 10   num_failed_logins            817551 non-null  float64\n",
            " 11   logged_in                    817551 non-null  float64\n",
            " 12   num_compromised              817551 non-null  float64\n",
            " 13   root_shell                   817551 non-null  float64\n",
            " 14   su_attempted                 817551 non-null  float64\n",
            " 15   num_root                     817551 non-null  float64\n",
            " 16   num_file_creations           817551 non-null  float64\n",
            " 17   num_shells                   817551 non-null  float64\n",
            " 18   num_access_files             817551 non-null  float64\n",
            " 19   num_outbound_cmds            817551 non-null  int64  \n",
            " 20   is_host_login                817551 non-null  float64\n",
            " 21   is_guest_login               817551 non-null  float64\n",
            " 22   count                        817551 non-null  float64\n",
            " 23   srv_count                    817551 non-null  float64\n",
            " 24   serror_rate                  817551 non-null  float64\n",
            " 25   srv_error_rate               817551 non-null  float64\n",
            " 26   rerror_rate                  817551 non-null  float64\n",
            " 27   srv_rerror_rate              817551 non-null  float64\n",
            " 28   same_srv_rate                817551 non-null  float64\n",
            " 29   diff_srv_rate                817551 non-null  float64\n",
            " 30   srv_diff_host_rate           817551 non-null  float64\n",
            " 31   dst_host_count               817551 non-null  float64\n",
            " 32   dst_host_srv_count           817551 non-null  float64\n",
            " 33   dst_host_same_srv_rate       817551 non-null  float64\n",
            " 34   dst_host_diff_srv_rate       817551 non-null  float64\n",
            " 35   dst_host_same_src_port_rate  817551 non-null  float64\n",
            " 36   dst_host_srv_diff_host_rate  817551 non-null  float64\n",
            " 37   dst_host_serror_rate         817551 non-null  float64\n",
            " 38   dst_host_srv_serror_rate     817551 non-null  float64\n",
            " 39   dst_host_rerror_rate         817551 non-null  float64\n",
            " 40   dst_host_srv_rerror_rate     817551 non-null  float64\n",
            " 41  Attack                        817551 non-null  object \n",
            "dtypes: float64(39), int64(2), object(1)\n",
            "memory usage: 262.0+ MB\n"
          ]
        }
      ]
    },
    {
      "cell_type": "code",
      "source": [
        "final_data ['Attack'].value_counts()"
      ],
      "metadata": {
        "colab": {
          "base_uri": "https://localhost:8080/"
        },
        "id": "uoH1TresGDPI",
        "outputId": "6c6270de-60b5-4bce-8a68-521434e9aa1d"
      },
      "execution_count": 6,
      "outputs": [
        {
          "output_type": "execute_result",
          "data": {
            "text/plain": [
              "Back_Normal            576710\n",
              "Back_Neptune           227228\n",
              "Back_Satan               5019\n",
              "Back_Smurf               3007\n",
              "Back_PortSweep           2964\n",
              "Back_NMap                1554\n",
              "Back                      968\n",
              "Back_GuessPassword         53\n",
              "Back_BufferOverflow        30\n",
              "Back_RootKit               10\n",
              "Back_FTPWrite               8\n",
              "Name: Attack, dtype: int64"
            ]
          },
          "metadata": {},
          "execution_count": 6
        }
      ]
    },
    {
      "cell_type": "code",
      "source": [
        "final_data.isna().sum()"
      ],
      "metadata": {
        "colab": {
          "base_uri": "https://localhost:8080/"
        },
        "id": "nHEW7n6ZG7fH",
        "outputId": "3df37188-991d-4695-a56e-2c0ae8c7e992"
      },
      "execution_count": 7,
      "outputs": [
        {
          "output_type": "execute_result",
          "data": {
            "text/plain": [
              "duration                        0\n",
              " protocol_type                  0\n",
              " service                        0\n",
              " flag                           0\n",
              " src_bytes                      0\n",
              " dst_bytes                      0\n",
              " land                           0\n",
              " wrong_fragment                 0\n",
              " urgent                         0\n",
              " hot                            0\n",
              " num_failed_logins              0\n",
              " logged_in                      0\n",
              " num_compromised                0\n",
              " root_shell                     0\n",
              " su_attempted                   0\n",
              " num_root                       0\n",
              " num_file_creations             0\n",
              " num_shells                     0\n",
              " num_access_files               0\n",
              " num_outbound_cmds              0\n",
              " is_host_login                  0\n",
              " is_guest_login                 0\n",
              " count                          0\n",
              " srv_count                      0\n",
              " serror_rate                    0\n",
              " srv_error_rate                 0\n",
              " rerror_rate                    0\n",
              " srv_rerror_rate                0\n",
              " same_srv_rate                  0\n",
              " diff_srv_rate                  0\n",
              " srv_diff_host_rate             0\n",
              " dst_host_count                 0\n",
              " dst_host_srv_count             0\n",
              " dst_host_same_srv_rate         0\n",
              " dst_host_diff_srv_rate         0\n",
              " dst_host_same_src_port_rate    0\n",
              " dst_host_srv_diff_host_rate    0\n",
              " dst_host_serror_rate           0\n",
              " dst_host_srv_serror_rate       0\n",
              " dst_host_rerror_rate           0\n",
              " dst_host_srv_rerror_rate       0\n",
              "Attack                          0\n",
              "dtype: int64"
            ]
          },
          "metadata": {},
          "execution_count": 7
        }
      ]
    },
    {
      "cell_type": "markdown",
      "source": [
        "**Using SMOTE to handle imbalanced data**"
      ],
      "metadata": {
        "id": "B1MfKfz_IwBh"
      }
    },
    {
      "cell_type": "code",
      "source": [
        "from imblearn.over_sampling import SMOTE\n",
        "\n",
        "X = final_data.drop('Attack', axis=1)\n",
        "y = final_data['Attack']\n",
        "\n",
        "# Initialize SMOTE for oversampling\n",
        "smote = SMOTE()\n",
        "\n",
        "# Perform SMOTE resampling\n",
        "X_resampled, y_resampled = smote.fit_resample(X, y)\n",
        "\n",
        "# Create a new balanced DataFrame\n",
        "final_data_balanced = pd.DataFrame(X_resampled, columns=X.columns)\n",
        "final_data_balanced['Attack'] = y_resampled\n",
        "\n",
        "\n",
        "final_data_balanced.info()"
      ],
      "metadata": {
        "colab": {
          "base_uri": "https://localhost:8080/"
        },
        "id": "PmTUU06hGeM0",
        "outputId": "b0416ac5-1dd6-4a34-ed67-76002875d265"
      },
      "execution_count": 8,
      "outputs": [
        {
          "output_type": "stream",
          "name": "stdout",
          "text": [
            "<class 'pandas.core.frame.DataFrame'>\n",
            "RangeIndex: 6343810 entries, 0 to 6343809\n",
            "Data columns (total 42 columns):\n",
            " #   Column                        Dtype  \n",
            "---  ------                        -----  \n",
            " 0   duration                      float64\n",
            " 1    protocol_type                float64\n",
            " 2    service                      float64\n",
            " 3    flag                         float64\n",
            " 4    src_bytes                    float64\n",
            " 5    dst_bytes                    float64\n",
            " 6    land                         int64  \n",
            " 7    wrong_fragment               float64\n",
            " 8    urgent                       float64\n",
            " 9    hot                          float64\n",
            " 10   num_failed_logins            float64\n",
            " 11   logged_in                    float64\n",
            " 12   num_compromised              float64\n",
            " 13   root_shell                   float64\n",
            " 14   su_attempted                 float64\n",
            " 15   num_root                     float64\n",
            " 16   num_file_creations           float64\n",
            " 17   num_shells                   float64\n",
            " 18   num_access_files             float64\n",
            " 19   num_outbound_cmds            int64  \n",
            " 20   is_host_login                float64\n",
            " 21   is_guest_login               float64\n",
            " 22   count                        float64\n",
            " 23   srv_count                    float64\n",
            " 24   serror_rate                  float64\n",
            " 25   srv_error_rate               float64\n",
            " 26   rerror_rate                  float64\n",
            " 27   srv_rerror_rate              float64\n",
            " 28   same_srv_rate                float64\n",
            " 29   diff_srv_rate                float64\n",
            " 30   srv_diff_host_rate           float64\n",
            " 31   dst_host_count               float64\n",
            " 32   dst_host_srv_count           float64\n",
            " 33   dst_host_same_srv_rate       float64\n",
            " 34   dst_host_diff_srv_rate       float64\n",
            " 35   dst_host_same_src_port_rate  float64\n",
            " 36   dst_host_srv_diff_host_rate  float64\n",
            " 37   dst_host_serror_rate         float64\n",
            " 38   dst_host_srv_serror_rate     float64\n",
            " 39   dst_host_rerror_rate         float64\n",
            " 40   dst_host_srv_rerror_rate     float64\n",
            " 41  Attack                        object \n",
            "dtypes: float64(39), int64(2), object(1)\n",
            "memory usage: 2.0+ GB\n"
          ]
        }
      ]
    },
    {
      "cell_type": "code",
      "source": [
        "final_data_balanced.isna().sum()"
      ],
      "metadata": {
        "colab": {
          "base_uri": "https://localhost:8080/"
        },
        "id": "OunAQrkNNnuU",
        "outputId": "4db704be-98aa-4486-8bc0-c5f17382c118"
      },
      "execution_count": 9,
      "outputs": [
        {
          "output_type": "execute_result",
          "data": {
            "text/plain": [
              "duration                        0\n",
              " protocol_type                  0\n",
              " service                        0\n",
              " flag                           0\n",
              " src_bytes                      0\n",
              " dst_bytes                      0\n",
              " land                           0\n",
              " wrong_fragment                 0\n",
              " urgent                         0\n",
              " hot                            0\n",
              " num_failed_logins              0\n",
              " logged_in                      0\n",
              " num_compromised                0\n",
              " root_shell                     0\n",
              " su_attempted                   0\n",
              " num_root                       0\n",
              " num_file_creations             0\n",
              " num_shells                     0\n",
              " num_access_files               0\n",
              " num_outbound_cmds              0\n",
              " is_host_login                  0\n",
              " is_guest_login                 0\n",
              " count                          0\n",
              " srv_count                      0\n",
              " serror_rate                    0\n",
              " srv_error_rate                 0\n",
              " rerror_rate                    0\n",
              " srv_rerror_rate                0\n",
              " same_srv_rate                  0\n",
              " diff_srv_rate                  0\n",
              " srv_diff_host_rate             0\n",
              " dst_host_count                 0\n",
              " dst_host_srv_count             0\n",
              " dst_host_same_srv_rate         0\n",
              " dst_host_diff_srv_rate         0\n",
              " dst_host_same_src_port_rate    0\n",
              " dst_host_srv_diff_host_rate    0\n",
              " dst_host_serror_rate           0\n",
              " dst_host_srv_serror_rate       0\n",
              " dst_host_rerror_rate           0\n",
              " dst_host_srv_rerror_rate       0\n",
              "Attack                          0\n",
              "dtype: int64"
            ]
          },
          "metadata": {},
          "execution_count": 9
        }
      ]
    },
    {
      "cell_type": "code",
      "source": [
        "final_data_balanced['Attack'].value_counts()"
      ],
      "metadata": {
        "colab": {
          "base_uri": "https://localhost:8080/"
        },
        "id": "UD11b_uXN5_Z",
        "outputId": "f886ecb9-eb7a-4618-c275-5f65c9604b18"
      },
      "execution_count": 10,
      "outputs": [
        {
          "output_type": "execute_result",
          "data": {
            "text/plain": [
              "Back_Normal            576710\n",
              "Back                   576710\n",
              "Back_BufferOverflow    576710\n",
              "Back_FTPWrite          576710\n",
              "Back_GuessPassword     576710\n",
              "Back_Neptune           576710\n",
              "Back_NMap              576710\n",
              "Back_PortSweep         576710\n",
              "Back_RootKit           576710\n",
              "Back_Satan             576710\n",
              "Back_Smurf             576710\n",
              "Name: Attack, dtype: int64"
            ]
          },
          "metadata": {},
          "execution_count": 10
        }
      ]
    },
    {
      "cell_type": "code",
      "source": [
        "final_data_balanced.info()"
      ],
      "metadata": {
        "colab": {
          "base_uri": "https://localhost:8080/"
        },
        "id": "Z3ZB4RvPOJPV",
        "outputId": "03008b0a-fe95-4074-dc7d-c978340eacd1"
      },
      "execution_count": 11,
      "outputs": [
        {
          "output_type": "stream",
          "name": "stdout",
          "text": [
            "<class 'pandas.core.frame.DataFrame'>\n",
            "RangeIndex: 6343810 entries, 0 to 6343809\n",
            "Data columns (total 42 columns):\n",
            " #   Column                        Dtype  \n",
            "---  ------                        -----  \n",
            " 0   duration                      float64\n",
            " 1    protocol_type                float64\n",
            " 2    service                      float64\n",
            " 3    flag                         float64\n",
            " 4    src_bytes                    float64\n",
            " 5    dst_bytes                    float64\n",
            " 6    land                         int64  \n",
            " 7    wrong_fragment               float64\n",
            " 8    urgent                       float64\n",
            " 9    hot                          float64\n",
            " 10   num_failed_logins            float64\n",
            " 11   logged_in                    float64\n",
            " 12   num_compromised              float64\n",
            " 13   root_shell                   float64\n",
            " 14   su_attempted                 float64\n",
            " 15   num_root                     float64\n",
            " 16   num_file_creations           float64\n",
            " 17   num_shells                   float64\n",
            " 18   num_access_files             float64\n",
            " 19   num_outbound_cmds            int64  \n",
            " 20   is_host_login                float64\n",
            " 21   is_guest_login               float64\n",
            " 22   count                        float64\n",
            " 23   srv_count                    float64\n",
            " 24   serror_rate                  float64\n",
            " 25   srv_error_rate               float64\n",
            " 26   rerror_rate                  float64\n",
            " 27   srv_rerror_rate              float64\n",
            " 28   same_srv_rate                float64\n",
            " 29   diff_srv_rate                float64\n",
            " 30   srv_diff_host_rate           float64\n",
            " 31   dst_host_count               float64\n",
            " 32   dst_host_srv_count           float64\n",
            " 33   dst_host_same_srv_rate       float64\n",
            " 34   dst_host_diff_srv_rate       float64\n",
            " 35   dst_host_same_src_port_rate  float64\n",
            " 36   dst_host_srv_diff_host_rate  float64\n",
            " 37   dst_host_serror_rate         float64\n",
            " 38   dst_host_srv_serror_rate     float64\n",
            " 39   dst_host_rerror_rate         float64\n",
            " 40   dst_host_srv_rerror_rate     float64\n",
            " 41  Attack                        object \n",
            "dtypes: float64(39), int64(2), object(1)\n",
            "memory usage: 2.0+ GB\n"
          ]
        }
      ]
    },
    {
      "cell_type": "markdown",
      "source": [
        "**Taking sample from above data**"
      ],
      "metadata": {
        "id": "Jcwa6wGmsTWX"
      }
    },
    {
      "cell_type": "code",
      "source": [
        "# Calculate the sample size (20% of the total data)\n",
        "sample_size = int(0.2 * len(final_data_balanced))\n",
        "\n",
        "# Take a random sample of 20% of the data\n",
        "final_data_balanced_sample = final_data_balanced.sample(n=sample_size, random_state=42)\n",
        "\n",
        "# Display the sample size\n",
        "print(sample_size)\n",
        "final_data_balanced_sample"
      ],
      "metadata": {
        "colab": {
          "base_uri": "https://localhost:8080/",
          "height": 506
        },
        "id": "zOqfSFMlsOem",
        "outputId": "b982cfc1-3d68-4028-e94d-7d7232716dde"
      },
      "execution_count": 12,
      "outputs": [
        {
          "output_type": "stream",
          "name": "stdout",
          "text": [
            "1268762\n"
          ]
        },
        {
          "output_type": "execute_result",
          "data": {
            "text/plain": [
              "         duration   protocol_type   service      flag   src_bytes   dst_bytes  \\\n",
              "4102946  0.913358        0.000000  0.100000  0.080000    0.000010    0.000000   \n",
              "5161978  0.022049        0.000000  0.050000  0.000000    0.008431    0.115133   \n",
              "1546620  0.020328        0.000000  0.083006  0.037996    0.009537    0.030360   \n",
              "1289141  0.000000        0.000000  0.000000  0.000000    0.545400    0.083140   \n",
              "5394503  0.000000        0.000000  0.120000  0.050000    0.000000    0.000000   \n",
              "...           ...             ...       ...       ...         ...         ...   \n",
              "4850854  0.031124        0.005604  0.078020  0.000000    0.007771    0.105856   \n",
              "973033   0.000000        0.000000  0.000000  0.000000    0.545400    0.083140   \n",
              "3239729  0.000000        0.010000  0.120000  0.000000    0.001000    0.000893   \n",
              "3854298  0.000000        0.000000  0.430000  0.070000    0.000000    0.000000   \n",
              "451521   0.000000        0.000000  0.010000  0.000000    0.011480    0.003330   \n",
              "\n",
              "          land   wrong_fragment   urgent      hot  ...   dst_host_srv_count  \\\n",
              "4102946      0              0.0  0.00000  0.00000  ...             0.002000   \n",
              "5161978      0              0.0  0.07992  0.07992  ...             0.003799   \n",
              "1546620      0              0.0  0.00000  0.00000  ...             0.004900   \n",
              "1289141      0              0.0  0.00000  0.20000  ...             0.138522   \n",
              "5394503      0              0.0  0.00000  0.00000  ...             0.001000   \n",
              "...        ...              ...      ...      ...  ...                  ...   \n",
              "4850854      0              0.0  0.00000  0.00000  ...             0.001879   \n",
              "973033       0              0.0  0.00000  0.20000  ...             0.255000   \n",
              "3239729      0              0.0  0.00000  0.00000  ...             0.039893   \n",
              "3854298      0              0.0  0.00000  0.00000  ...             0.001000   \n",
              "451521       0              0.0  0.00000  0.00000  ...             0.168000   \n",
              "\n",
              "          dst_host_same_srv_rate   dst_host_diff_srv_rate  \\\n",
              "4102946                 0.001000                 0.074000   \n",
              "5161978                 0.001799                 0.002000   \n",
              "1546620                 0.100000                 0.000000   \n",
              "1289141                 0.100000                 0.000000   \n",
              "5394503                 0.000000                 0.084838   \n",
              "...                          ...                      ...   \n",
              "4850854                 0.000440                 0.002000   \n",
              "973033                  0.100000                 0.000000   \n",
              "3239729                 0.017000                 0.001000   \n",
              "3854298                 0.000000                 0.006012   \n",
              "451521                  0.063000                 0.003000   \n",
              "\n",
              "          dst_host_same_src_port_rate   dst_host_srv_diff_host_rate  \\\n",
              "4102946                      0.100000                         0.000   \n",
              "5161978                      0.000000                         0.000   \n",
              "1546620                      0.047438                         0.000   \n",
              "1289141                      0.001000                         0.000   \n",
              "5394503                      0.000000                         0.000   \n",
              "...                               ...                           ...   \n",
              "4850854                      0.000000                         0.000   \n",
              "973033                       0.000000                         0.000   \n",
              "3239729                      0.017000                         0.000   \n",
              "3854298                      0.000000                         0.000   \n",
              "451521                       0.000000                         0.001   \n",
              "\n",
              "          dst_host_serror_rate   dst_host_srv_serror_rate  \\\n",
              "4102946                  0.000                        0.0   \n",
              "5161978                  0.000                        0.0   \n",
              "1546620                  0.000                        0.0   \n",
              "1289141                  0.000                        0.0   \n",
              "5394503                  0.007                        0.0   \n",
              "...                        ...                        ...   \n",
              "4850854                  0.000                        0.0   \n",
              "973033                   0.000                        0.0   \n",
              "3239729                  0.000                        0.0   \n",
              "3854298                  0.100                        0.1   \n",
              "451521                   0.000                        0.0   \n",
              "\n",
              "          dst_host_rerror_rate   dst_host_srv_rerror_rate               Attack  \n",
              "4102946               0.100000                   0.100000       Back_PortSweep  \n",
              "5161978               0.000000                   0.000000         Back_RootKit  \n",
              "1546620               0.010766                   0.010766  Back_BufferOverflow  \n",
              "1289141               0.001000                   0.001000                 Back  \n",
              "5394503               0.062838                   0.100000           Back_Satan  \n",
              "...                        ...                        ...                  ...  \n",
              "4850854               0.000000                   0.000000         Back_RootKit  \n",
              "973033                0.003556                   0.003556                 Back  \n",
              "3239729               0.000000                   0.000000            Back_NMap  \n",
              "3854298               0.000000                   0.000000         Back_Neptune  \n",
              "451521                0.000000                   0.000000          Back_Normal  \n",
              "\n",
              "[1268762 rows x 42 columns]"
            ],
            "text/html": [
              "\n",
              "  <div id=\"df-cc7763e4-350e-40eb-9415-4306f8227aaf\">\n",
              "    <div class=\"colab-df-container\">\n",
              "      <div>\n",
              "<style scoped>\n",
              "    .dataframe tbody tr th:only-of-type {\n",
              "        vertical-align: middle;\n",
              "    }\n",
              "\n",
              "    .dataframe tbody tr th {\n",
              "        vertical-align: top;\n",
              "    }\n",
              "\n",
              "    .dataframe thead th {\n",
              "        text-align: right;\n",
              "    }\n",
              "</style>\n",
              "<table border=\"1\" class=\"dataframe\">\n",
              "  <thead>\n",
              "    <tr style=\"text-align: right;\">\n",
              "      <th></th>\n",
              "      <th>duration</th>\n",
              "      <th>protocol_type</th>\n",
              "      <th>service</th>\n",
              "      <th>flag</th>\n",
              "      <th>src_bytes</th>\n",
              "      <th>dst_bytes</th>\n",
              "      <th>land</th>\n",
              "      <th>wrong_fragment</th>\n",
              "      <th>urgent</th>\n",
              "      <th>hot</th>\n",
              "      <th>...</th>\n",
              "      <th>dst_host_srv_count</th>\n",
              "      <th>dst_host_same_srv_rate</th>\n",
              "      <th>dst_host_diff_srv_rate</th>\n",
              "      <th>dst_host_same_src_port_rate</th>\n",
              "      <th>dst_host_srv_diff_host_rate</th>\n",
              "      <th>dst_host_serror_rate</th>\n",
              "      <th>dst_host_srv_serror_rate</th>\n",
              "      <th>dst_host_rerror_rate</th>\n",
              "      <th>dst_host_srv_rerror_rate</th>\n",
              "      <th>Attack</th>\n",
              "    </tr>\n",
              "  </thead>\n",
              "  <tbody>\n",
              "    <tr>\n",
              "      <th>4102946</th>\n",
              "      <td>0.913358</td>\n",
              "      <td>0.000000</td>\n",
              "      <td>0.100000</td>\n",
              "      <td>0.080000</td>\n",
              "      <td>0.000010</td>\n",
              "      <td>0.000000</td>\n",
              "      <td>0</td>\n",
              "      <td>0.0</td>\n",
              "      <td>0.00000</td>\n",
              "      <td>0.00000</td>\n",
              "      <td>...</td>\n",
              "      <td>0.002000</td>\n",
              "      <td>0.001000</td>\n",
              "      <td>0.074000</td>\n",
              "      <td>0.100000</td>\n",
              "      <td>0.000</td>\n",
              "      <td>0.000</td>\n",
              "      <td>0.0</td>\n",
              "      <td>0.100000</td>\n",
              "      <td>0.100000</td>\n",
              "      <td>Back_PortSweep</td>\n",
              "    </tr>\n",
              "    <tr>\n",
              "      <th>5161978</th>\n",
              "      <td>0.022049</td>\n",
              "      <td>0.000000</td>\n",
              "      <td>0.050000</td>\n",
              "      <td>0.000000</td>\n",
              "      <td>0.008431</td>\n",
              "      <td>0.115133</td>\n",
              "      <td>0</td>\n",
              "      <td>0.0</td>\n",
              "      <td>0.07992</td>\n",
              "      <td>0.07992</td>\n",
              "      <td>...</td>\n",
              "      <td>0.003799</td>\n",
              "      <td>0.001799</td>\n",
              "      <td>0.002000</td>\n",
              "      <td>0.000000</td>\n",
              "      <td>0.000</td>\n",
              "      <td>0.000</td>\n",
              "      <td>0.0</td>\n",
              "      <td>0.000000</td>\n",
              "      <td>0.000000</td>\n",
              "      <td>Back_RootKit</td>\n",
              "    </tr>\n",
              "    <tr>\n",
              "      <th>1546620</th>\n",
              "      <td>0.020328</td>\n",
              "      <td>0.000000</td>\n",
              "      <td>0.083006</td>\n",
              "      <td>0.037996</td>\n",
              "      <td>0.009537</td>\n",
              "      <td>0.030360</td>\n",
              "      <td>0</td>\n",
              "      <td>0.0</td>\n",
              "      <td>0.00000</td>\n",
              "      <td>0.00000</td>\n",
              "      <td>...</td>\n",
              "      <td>0.004900</td>\n",
              "      <td>0.100000</td>\n",
              "      <td>0.000000</td>\n",
              "      <td>0.047438</td>\n",
              "      <td>0.000</td>\n",
              "      <td>0.000</td>\n",
              "      <td>0.0</td>\n",
              "      <td>0.010766</td>\n",
              "      <td>0.010766</td>\n",
              "      <td>Back_BufferOverflow</td>\n",
              "    </tr>\n",
              "    <tr>\n",
              "      <th>1289141</th>\n",
              "      <td>0.000000</td>\n",
              "      <td>0.000000</td>\n",
              "      <td>0.000000</td>\n",
              "      <td>0.000000</td>\n",
              "      <td>0.545400</td>\n",
              "      <td>0.083140</td>\n",
              "      <td>0</td>\n",
              "      <td>0.0</td>\n",
              "      <td>0.00000</td>\n",
              "      <td>0.20000</td>\n",
              "      <td>...</td>\n",
              "      <td>0.138522</td>\n",
              "      <td>0.100000</td>\n",
              "      <td>0.000000</td>\n",
              "      <td>0.001000</td>\n",
              "      <td>0.000</td>\n",
              "      <td>0.000</td>\n",
              "      <td>0.0</td>\n",
              "      <td>0.001000</td>\n",
              "      <td>0.001000</td>\n",
              "      <td>Back</td>\n",
              "    </tr>\n",
              "    <tr>\n",
              "      <th>5394503</th>\n",
              "      <td>0.000000</td>\n",
              "      <td>0.000000</td>\n",
              "      <td>0.120000</td>\n",
              "      <td>0.050000</td>\n",
              "      <td>0.000000</td>\n",
              "      <td>0.000000</td>\n",
              "      <td>0</td>\n",
              "      <td>0.0</td>\n",
              "      <td>0.00000</td>\n",
              "      <td>0.00000</td>\n",
              "      <td>...</td>\n",
              "      <td>0.001000</td>\n",
              "      <td>0.000000</td>\n",
              "      <td>0.084838</td>\n",
              "      <td>0.000000</td>\n",
              "      <td>0.000</td>\n",
              "      <td>0.007</td>\n",
              "      <td>0.0</td>\n",
              "      <td>0.062838</td>\n",
              "      <td>0.100000</td>\n",
              "      <td>Back_Satan</td>\n",
              "    </tr>\n",
              "    <tr>\n",
              "      <th>...</th>\n",
              "      <td>...</td>\n",
              "      <td>...</td>\n",
              "      <td>...</td>\n",
              "      <td>...</td>\n",
              "      <td>...</td>\n",
              "      <td>...</td>\n",
              "      <td>...</td>\n",
              "      <td>...</td>\n",
              "      <td>...</td>\n",
              "      <td>...</td>\n",
              "      <td>...</td>\n",
              "      <td>...</td>\n",
              "      <td>...</td>\n",
              "      <td>...</td>\n",
              "      <td>...</td>\n",
              "      <td>...</td>\n",
              "      <td>...</td>\n",
              "      <td>...</td>\n",
              "      <td>...</td>\n",
              "      <td>...</td>\n",
              "      <td>...</td>\n",
              "    </tr>\n",
              "    <tr>\n",
              "      <th>4850854</th>\n",
              "      <td>0.031124</td>\n",
              "      <td>0.005604</td>\n",
              "      <td>0.078020</td>\n",
              "      <td>0.000000</td>\n",
              "      <td>0.007771</td>\n",
              "      <td>0.105856</td>\n",
              "      <td>0</td>\n",
              "      <td>0.0</td>\n",
              "      <td>0.00000</td>\n",
              "      <td>0.00000</td>\n",
              "      <td>...</td>\n",
              "      <td>0.001879</td>\n",
              "      <td>0.000440</td>\n",
              "      <td>0.002000</td>\n",
              "      <td>0.000000</td>\n",
              "      <td>0.000</td>\n",
              "      <td>0.000</td>\n",
              "      <td>0.0</td>\n",
              "      <td>0.000000</td>\n",
              "      <td>0.000000</td>\n",
              "      <td>Back_RootKit</td>\n",
              "    </tr>\n",
              "    <tr>\n",
              "      <th>973033</th>\n",
              "      <td>0.000000</td>\n",
              "      <td>0.000000</td>\n",
              "      <td>0.000000</td>\n",
              "      <td>0.000000</td>\n",
              "      <td>0.545400</td>\n",
              "      <td>0.083140</td>\n",
              "      <td>0</td>\n",
              "      <td>0.0</td>\n",
              "      <td>0.00000</td>\n",
              "      <td>0.20000</td>\n",
              "      <td>...</td>\n",
              "      <td>0.255000</td>\n",
              "      <td>0.100000</td>\n",
              "      <td>0.000000</td>\n",
              "      <td>0.000000</td>\n",
              "      <td>0.000</td>\n",
              "      <td>0.000</td>\n",
              "      <td>0.0</td>\n",
              "      <td>0.003556</td>\n",
              "      <td>0.003556</td>\n",
              "      <td>Back</td>\n",
              "    </tr>\n",
              "    <tr>\n",
              "      <th>3239729</th>\n",
              "      <td>0.000000</td>\n",
              "      <td>0.010000</td>\n",
              "      <td>0.120000</td>\n",
              "      <td>0.000000</td>\n",
              "      <td>0.001000</td>\n",
              "      <td>0.000893</td>\n",
              "      <td>0</td>\n",
              "      <td>0.0</td>\n",
              "      <td>0.00000</td>\n",
              "      <td>0.00000</td>\n",
              "      <td>...</td>\n",
              "      <td>0.039893</td>\n",
              "      <td>0.017000</td>\n",
              "      <td>0.001000</td>\n",
              "      <td>0.017000</td>\n",
              "      <td>0.000</td>\n",
              "      <td>0.000</td>\n",
              "      <td>0.0</td>\n",
              "      <td>0.000000</td>\n",
              "      <td>0.000000</td>\n",
              "      <td>Back_NMap</td>\n",
              "    </tr>\n",
              "    <tr>\n",
              "      <th>3854298</th>\n",
              "      <td>0.000000</td>\n",
              "      <td>0.000000</td>\n",
              "      <td>0.430000</td>\n",
              "      <td>0.070000</td>\n",
              "      <td>0.000000</td>\n",
              "      <td>0.000000</td>\n",
              "      <td>0</td>\n",
              "      <td>0.0</td>\n",
              "      <td>0.00000</td>\n",
              "      <td>0.00000</td>\n",
              "      <td>...</td>\n",
              "      <td>0.001000</td>\n",
              "      <td>0.000000</td>\n",
              "      <td>0.006012</td>\n",
              "      <td>0.000000</td>\n",
              "      <td>0.000</td>\n",
              "      <td>0.100</td>\n",
              "      <td>0.1</td>\n",
              "      <td>0.000000</td>\n",
              "      <td>0.000000</td>\n",
              "      <td>Back_Neptune</td>\n",
              "    </tr>\n",
              "    <tr>\n",
              "      <th>451521</th>\n",
              "      <td>0.000000</td>\n",
              "      <td>0.000000</td>\n",
              "      <td>0.010000</td>\n",
              "      <td>0.000000</td>\n",
              "      <td>0.011480</td>\n",
              "      <td>0.003330</td>\n",
              "      <td>0</td>\n",
              "      <td>0.0</td>\n",
              "      <td>0.00000</td>\n",
              "      <td>0.00000</td>\n",
              "      <td>...</td>\n",
              "      <td>0.168000</td>\n",
              "      <td>0.063000</td>\n",
              "      <td>0.003000</td>\n",
              "      <td>0.000000</td>\n",
              "      <td>0.001</td>\n",
              "      <td>0.000</td>\n",
              "      <td>0.0</td>\n",
              "      <td>0.000000</td>\n",
              "      <td>0.000000</td>\n",
              "      <td>Back_Normal</td>\n",
              "    </tr>\n",
              "  </tbody>\n",
              "</table>\n",
              "<p>1268762 rows × 42 columns</p>\n",
              "</div>\n",
              "      <button class=\"colab-df-convert\" onclick=\"convertToInteractive('df-cc7763e4-350e-40eb-9415-4306f8227aaf')\"\n",
              "              title=\"Convert this dataframe to an interactive table.\"\n",
              "              style=\"display:none;\">\n",
              "        \n",
              "  <svg xmlns=\"http://www.w3.org/2000/svg\" height=\"24px\"viewBox=\"0 0 24 24\"\n",
              "       width=\"24px\">\n",
              "    <path d=\"M0 0h24v24H0V0z\" fill=\"none\"/>\n",
              "    <path d=\"M18.56 5.44l.94 2.06.94-2.06 2.06-.94-2.06-.94-.94-2.06-.94 2.06-2.06.94zm-11 1L8.5 8.5l.94-2.06 2.06-.94-2.06-.94L8.5 2.5l-.94 2.06-2.06.94zm10 10l.94 2.06.94-2.06 2.06-.94-2.06-.94-.94-2.06-.94 2.06-2.06.94z\"/><path d=\"M17.41 7.96l-1.37-1.37c-.4-.4-.92-.59-1.43-.59-.52 0-1.04.2-1.43.59L10.3 9.45l-7.72 7.72c-.78.78-.78 2.05 0 2.83L4 21.41c.39.39.9.59 1.41.59.51 0 1.02-.2 1.41-.59l7.78-7.78 2.81-2.81c.8-.78.8-2.07 0-2.86zM5.41 20L4 18.59l7.72-7.72 1.47 1.35L5.41 20z\"/>\n",
              "  </svg>\n",
              "      </button>\n",
              "      \n",
              "  <style>\n",
              "    .colab-df-container {\n",
              "      display:flex;\n",
              "      flex-wrap:wrap;\n",
              "      gap: 12px;\n",
              "    }\n",
              "\n",
              "    .colab-df-convert {\n",
              "      background-color: #E8F0FE;\n",
              "      border: none;\n",
              "      border-radius: 50%;\n",
              "      cursor: pointer;\n",
              "      display: none;\n",
              "      fill: #1967D2;\n",
              "      height: 32px;\n",
              "      padding: 0 0 0 0;\n",
              "      width: 32px;\n",
              "    }\n",
              "\n",
              "    .colab-df-convert:hover {\n",
              "      background-color: #E2EBFA;\n",
              "      box-shadow: 0px 1px 2px rgba(60, 64, 67, 0.3), 0px 1px 3px 1px rgba(60, 64, 67, 0.15);\n",
              "      fill: #174EA6;\n",
              "    }\n",
              "\n",
              "    [theme=dark] .colab-df-convert {\n",
              "      background-color: #3B4455;\n",
              "      fill: #D2E3FC;\n",
              "    }\n",
              "\n",
              "    [theme=dark] .colab-df-convert:hover {\n",
              "      background-color: #434B5C;\n",
              "      box-shadow: 0px 1px 3px 1px rgba(0, 0, 0, 0.15);\n",
              "      filter: drop-shadow(0px 1px 2px rgba(0, 0, 0, 0.3));\n",
              "      fill: #FFFFFF;\n",
              "    }\n",
              "  </style>\n",
              "\n",
              "      <script>\n",
              "        const buttonEl =\n",
              "          document.querySelector('#df-cc7763e4-350e-40eb-9415-4306f8227aaf button.colab-df-convert');\n",
              "        buttonEl.style.display =\n",
              "          google.colab.kernel.accessAllowed ? 'block' : 'none';\n",
              "\n",
              "        async function convertToInteractive(key) {\n",
              "          const element = document.querySelector('#df-cc7763e4-350e-40eb-9415-4306f8227aaf');\n",
              "          const dataTable =\n",
              "            await google.colab.kernel.invokeFunction('convertToInteractive',\n",
              "                                                     [key], {});\n",
              "          if (!dataTable) return;\n",
              "\n",
              "          const docLinkHtml = 'Like what you see? Visit the ' +\n",
              "            '<a target=\"_blank\" href=https://colab.research.google.com/notebooks/data_table.ipynb>data table notebook</a>'\n",
              "            + ' to learn more about interactive tables.';\n",
              "          element.innerHTML = '';\n",
              "          dataTable['output_type'] = 'display_data';\n",
              "          await google.colab.output.renderOutput(dataTable, element);\n",
              "          const docLink = document.createElement('div');\n",
              "          docLink.innerHTML = docLinkHtml;\n",
              "          element.appendChild(docLink);\n",
              "        }\n",
              "      </script>\n",
              "    </div>\n",
              "  </div>\n",
              "  "
            ]
          },
          "metadata": {},
          "execution_count": 12
        }
      ]
    },
    {
      "cell_type": "code",
      "source": [
        "final_data_balanced_sample['Attack'].value_counts()"
      ],
      "metadata": {
        "colab": {
          "base_uri": "https://localhost:8080/"
        },
        "id": "kAgszBMRsuGJ",
        "outputId": "e5685820-fae8-4fcb-ecf0-11518b0cbc9d"
      },
      "execution_count": 13,
      "outputs": [
        {
          "output_type": "execute_result",
          "data": {
            "text/plain": [
              "Back_FTPWrite          115780\n",
              "Back_RootKit           115582\n",
              "Back_Smurf             115547\n",
              "Back_Normal            115537\n",
              "Back_Neptune           115481\n",
              "Back_GuessPassword     115282\n",
              "Back_Satan             115220\n",
              "Back_NMap              115214\n",
              "Back_BufferOverflow    115090\n",
              "Back                   115024\n",
              "Back_PortSweep         115005\n",
              "Name: Attack, dtype: int64"
            ]
          },
          "metadata": {},
          "execution_count": 13
        }
      ]
    },
    {
      "cell_type": "markdown",
      "source": [
        "**Saving the sample in google colab**"
      ],
      "metadata": {
        "id": "fCnBl7FGteq1"
      }
    },
    {
      "cell_type": "code",
      "source": [
        "# Specify the path where you want to save the CSV file in Google Colab\n",
        "colab_csv_path = '/content/final_data_balanced_sample.csv'\n",
        "\n",
        "# Export the sample_data DataFrame to a CSV file in Google Colab\n",
        "final_data_balanced_sample.to_csv(colab_csv_path, index=False)"
      ],
      "metadata": {
        "id": "ox8UnP8TtJWC"
      },
      "execution_count": 14,
      "outputs": []
    },
    {
      "cell_type": "code",
      "source": [
        "from google.colab import drive\n",
        "drive.mount('/content/drive')\n",
        "# Assuming sample_data is your DataFrame containing the sample\n",
        "\n",
        "# Specify the path where you want to save the CSV file in Google Drive\n",
        "drive_csv_path = '/content/drive/MyDrive/final_data_balanced_sample.csv'\n",
        "\n",
        "# Export the sample_data DataFrame to a CSV file in Google Drive\n",
        "final_data_balanced_sample.to_csv(drive_csv_path, index=False)\n",
        "\n",
        "\n",
        "import shutil\n",
        "\n",
        "# Specify the path where you want to save the CSV file on your MacBook's desktop\n",
        "local_csv_path = '/content/final_data_balanced_sample.csv'\n",
        "\n",
        "# Copy the CSV file from Google Drive to Colab's local file system\n",
        "shutil.copy(drive_csv_path, local_csv_path)"
      ],
      "metadata": {
        "colab": {
          "base_uri": "https://localhost:8080/",
          "height": 53
        },
        "id": "su-SskF76FTN",
        "outputId": "ebd40cf8-7f2a-452d-e9d5-ddcba4fd379b"
      },
      "execution_count": 15,
      "outputs": [
        {
          "output_type": "stream",
          "name": "stdout",
          "text": [
            "Mounted at /content/drive\n"
          ]
        },
        {
          "output_type": "execute_result",
          "data": {
            "text/plain": [
              "'/content/final_data_balanced_sample.csv'"
            ],
            "application/vnd.google.colaboratory.intrinsic+json": {
              "type": "string"
            }
          },
          "metadata": {},
          "execution_count": 15
        }
      ]
    },
    {
      "cell_type": "code",
      "source": [
        "# Download the CSV file from Colab to your MacBook's desktop\n",
        "from google.colab import files\n",
        "files.download(local_csv_path)"
      ],
      "metadata": {
        "colab": {
          "base_uri": "https://localhost:8080/",
          "height": 17
        },
        "id": "zI5UtoGV7Fss",
        "outputId": "1034861e-ccf4-4e7b-d1bf-f5200edc771c"
      },
      "execution_count": 18,
      "outputs": [
        {
          "output_type": "display_data",
          "data": {
            "text/plain": [
              "<IPython.core.display.Javascript object>"
            ],
            "application/javascript": [
              "\n",
              "    async function download(id, filename, size) {\n",
              "      if (!google.colab.kernel.accessAllowed) {\n",
              "        return;\n",
              "      }\n",
              "      const div = document.createElement('div');\n",
              "      const label = document.createElement('label');\n",
              "      label.textContent = `Downloading \"${filename}\": `;\n",
              "      div.appendChild(label);\n",
              "      const progress = document.createElement('progress');\n",
              "      progress.max = size;\n",
              "      div.appendChild(progress);\n",
              "      document.body.appendChild(div);\n",
              "\n",
              "      const buffers = [];\n",
              "      let downloaded = 0;\n",
              "\n",
              "      const channel = await google.colab.kernel.comms.open(id);\n",
              "      // Send a message to notify the kernel that we're ready.\n",
              "      channel.send({})\n",
              "\n",
              "      for await (const message of channel.messages) {\n",
              "        // Send a message to notify the kernel that we're ready.\n",
              "        channel.send({})\n",
              "        if (message.buffers) {\n",
              "          for (const buffer of message.buffers) {\n",
              "            buffers.push(buffer);\n",
              "            downloaded += buffer.byteLength;\n",
              "            progress.value = downloaded;\n",
              "          }\n",
              "        }\n",
              "      }\n",
              "      const blob = new Blob(buffers, {type: 'application/binary'});\n",
              "      const a = document.createElement('a');\n",
              "      a.href = window.URL.createObjectURL(blob);\n",
              "      a.download = filename;\n",
              "      div.appendChild(a);\n",
              "      a.click();\n",
              "      div.remove();\n",
              "    }\n",
              "  "
            ]
          },
          "metadata": {}
        },
        {
          "output_type": "display_data",
          "data": {
            "text/plain": [
              "<IPython.core.display.Javascript object>"
            ],
            "application/javascript": [
              "download(\"download_206488c6-c5ae-4aef-8ddf-3f41875bb5a7\", \"final_data_balanced_sample.csv\", 334420286)"
            ]
          },
          "metadata": {}
        }
      ]
    }
  ]
}